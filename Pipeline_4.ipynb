{
 "cells": [
  {
   "cell_type": "code",
   "execution_count": 39,
   "metadata": {},
   "outputs": [],
   "source": [
    "from matplotlib import pyplot as plt\n",
    "from tabulate import tabulate\n",
    "import numpy as np\n",
    "import os\n",
    "import pandas as pd\n",
    "import pickle\n",
    "import seaborn as sns\n",
    "from sklearn.metrics import classification_report\n",
    "\n",
    "plt.style.use('dark_background')\n",
    "sns.set_palette(\"Set1\")"
   ]
  },
  {
   "cell_type": "code",
   "execution_count": 40,
   "metadata": {},
   "outputs": [],
   "source": [
    "features = ['ra', 'dec', 'u', 'g', 'r', 'i', 'z', 'redshift']\n",
    "#fi_cols = ['redshift', 'g-r', 'i-z', 'u-r', 'i-r', 'z-r', 'g']\n",
    "fi_cols = ['u', 'g', 'r', 'redshift', 'g-r', 'i-z', 'u-r', 'i-r', 'z-r']\n",
    "target = 'class'"
   ]
  },
  {
   "cell_type": "code",
   "execution_count": 41,
   "metadata": {},
   "outputs": [],
   "source": [
    "def fetch_data(features):\n",
    "    data = {f: [float(input(\"  '{}': \".format(f)))] for f in features}\n",
    "    df = pd.DataFrame(data=data)\n",
    "    print(\"Raw data is fetched successfully.\")\n",
    "    return df"
   ]
  },
  {
   "cell_type": "code",
   "execution_count": 42,
   "metadata": {},
   "outputs": [
    {
     "name": "stdout",
     "output_type": "stream",
     "text": [
      "Raw data is fetched successfully.\n"
     ]
    }
   ],
   "source": [
    "# 12 for all other than 1 for redshift\n",
    "df = fetch_data(features=features)"
   ]
  },
  {
   "cell_type": "code",
   "execution_count": 43,
   "metadata": {},
   "outputs": [],
   "source": [
    "def preprocess(df, features):\n",
    "    scale = 'data/scaling.pkl'\n",
    "    with open(file=scale, mode='rb') as pre_pkl:\n",
    "        scaling = pickle.load(file=pre_pkl)\n",
    "    \n",
    "    df = scaling.transform(X=df)\n",
    "    df = pd.DataFrame(data=df, columns=features)\n",
    "    return df"
   ]
  },
  {
   "cell_type": "code",
   "execution_count": 44,
   "metadata": {},
   "outputs": [
    {
     "data": {
      "text/html": [
       "<div>\n",
       "<style scoped>\n",
       "    .dataframe tbody tr th:only-of-type {\n",
       "        vertical-align: middle;\n",
       "    }\n",
       "\n",
       "    .dataframe tbody tr th {\n",
       "        vertical-align: top;\n",
       "    }\n",
       "\n",
       "    .dataframe thead th {\n",
       "        text-align: right;\n",
       "    }\n",
       "</style>\n",
       "<table border=\"1\" class=\"dataframe\">\n",
       "  <thead>\n",
       "    <tr style=\"text-align: right;\">\n",
       "      <th></th>\n",
       "      <th>ra</th>\n",
       "      <th>dec</th>\n",
       "      <th>u</th>\n",
       "      <th>g</th>\n",
       "      <th>r</th>\n",
       "      <th>i</th>\n",
       "      <th>z</th>\n",
       "      <th>redshift</th>\n",
       "    </tr>\n",
       "  </thead>\n",
       "  <tbody>\n",
       "    <tr>\n",
       "      <th>0</th>\n",
       "      <td>0.033316</td>\n",
       "      <td>0.310674</td>\n",
       "      <td>0.015776</td>\n",
       "      <td>0.109115</td>\n",
       "      <td>0.148938</td>\n",
       "      <td>0.176819</td>\n",
       "      <td>0.15406</td>\n",
       "      <td>0.142383</td>\n",
       "    </tr>\n",
       "  </tbody>\n",
       "</table>\n",
       "</div>"
      ],
      "text/plain": [
       "         ra       dec         u         g         r         i        z  \\\n",
       "0  0.033316  0.310674  0.015776  0.109115  0.148938  0.176819  0.15406   \n",
       "\n",
       "   redshift  \n",
       "0  0.142383  "
      ]
     },
     "metadata": {},
     "output_type": "display_data"
    }
   ],
   "source": [
    "df = preprocess(df=df, features=features)\n",
    "display(df)"
   ]
  },
  {
   "cell_type": "code",
   "execution_count": 45,
   "metadata": {},
   "outputs": [],
   "source": [
    "def featurize(df):\n",
    "    df['g-r'] = df['g'] - df['r']\n",
    "    df['i-z'] = df['i'] - df['z']\n",
    "    df['u-r'] = df['u'] - df['r']\n",
    "    df['i-r'] = df['i'] - df['r']\n",
    "    df['z-r'] = df['z'] - df['r']\n",
    "    df = df[fi_cols]\n",
    "    return df"
   ]
  },
  {
   "cell_type": "code",
   "execution_count": 46,
   "metadata": {},
   "outputs": [],
   "source": [
    "df = featurize(df)"
   ]
  },
  {
   "cell_type": "code",
   "execution_count": 47,
   "metadata": {},
   "outputs": [],
   "source": [
    "def prediction(X):\n",
    "    model = 'data/model_dumps/model_stacking_classifier.pkl'\n",
    "    with open(file=model, mode='rb') as m_pkl:\n",
    "        clf = pickle.load(file=m_pkl)\n",
    "    \n",
    "    pred_proba = clf.predict_proba(X=X)\n",
    "    confidence = np.round(a=np.max(pred_proba)*100, decimals=2)\n",
    "    pred_class = clf.predict(X=X)[0]\n",
    "    if pred_class == 'QSO': pred_class = 'Quasar'\n",
    "    else: pred_class = 'Star'\n",
    "    print(f\"The predicted class is '{pred_class}' with a confidence of {confidence}%.\")"
   ]
  },
  {
   "cell_type": "code",
   "execution_count": 48,
   "metadata": {},
   "outputs": [
    {
     "name": "stdout",
     "output_type": "stream",
     "text": [
      "The predicted class is 'Quasar' with a confidence of 97.96%.\n"
     ]
    },
    {
     "name": "stderr",
     "output_type": "stream",
     "text": [
      "c:\\ProgramData\\anaconda3\\Lib\\site-packages\\sklearn\\base.py:432: UserWarning: X has feature names, but LogisticRegression was fitted without feature names\n",
      "  warnings.warn(\n",
      "c:\\ProgramData\\anaconda3\\Lib\\site-packages\\sklearn\\base.py:432: UserWarning: X has feature names, but KNeighborsClassifier was fitted without feature names\n",
      "  warnings.warn(\n",
      "c:\\ProgramData\\anaconda3\\Lib\\site-packages\\sklearn\\base.py:432: UserWarning: X has feature names, but LogisticRegression was fitted without feature names\n",
      "  warnings.warn(\n",
      "c:\\ProgramData\\anaconda3\\Lib\\site-packages\\sklearn\\base.py:432: UserWarning: X has feature names, but KNeighborsClassifier was fitted without feature names\n",
      "  warnings.warn(\n"
     ]
    }
   ],
   "source": [
    "prediction(X=df)"
   ]
  },
  {
   "cell_type": "code",
   "execution_count": 49,
   "metadata": {},
   "outputs": [],
   "source": [
    "def ml_pipeline(features):\n",
    "    df = fetch_data(features=features)\n",
    "    df = preprocess(df=df, features=features)\n",
    "    df = featurize(df=df)\n",
    "    prediction(X=df)"
   ]
  },
  {
   "cell_type": "code",
   "execution_count": 50,
   "metadata": {},
   "outputs": [
    {
     "name": "stdout",
     "output_type": "stream",
     "text": [
      "Raw data is fetched successfully.\n",
      "The predicted class is 'Quasar' with a confidence of 100.0%.\n"
     ]
    },
    {
     "name": "stderr",
     "output_type": "stream",
     "text": [
      "c:\\ProgramData\\anaconda3\\Lib\\site-packages\\sklearn\\base.py:432: UserWarning: X has feature names, but LogisticRegression was fitted without feature names\n",
      "  warnings.warn(\n",
      "c:\\ProgramData\\anaconda3\\Lib\\site-packages\\sklearn\\base.py:432: UserWarning: X has feature names, but KNeighborsClassifier was fitted without feature names\n",
      "  warnings.warn(\n",
      "c:\\ProgramData\\anaconda3\\Lib\\site-packages\\sklearn\\base.py:432: UserWarning: X has feature names, but LogisticRegression was fitted without feature names\n",
      "  warnings.warn(\n",
      "c:\\ProgramData\\anaconda3\\Lib\\site-packages\\sklearn\\base.py:432: UserWarning: X has feature names, but KNeighborsClassifier was fitted without feature names\n",
      "  warnings.warn(\n"
     ]
    }
   ],
   "source": [
    "# All 15\n",
    "ml_pipeline(features=features)"
   ]
  },
  {
   "cell_type": "code",
   "execution_count": 51,
   "metadata": {},
   "outputs": [],
   "source": [
    "def pipeline_for_whole_test_data(features, target='class'):\n",
    "    data = pd.read_csv(filepath_or_buffer='data/test_data.csv')\n",
    "    \n",
    "    X_test = data[features]\n",
    "    y_test = data[target].values\n",
    "    \n",
    "    X_test = featurize(df=X_test)\n",
    "    \n",
    "    model = 'data/model_dumps/model_stacking_classifier.pkl'\n",
    "    with open(file=model, mode='rb') as m_pkl:\n",
    "        clf = pickle.load(file=m_pkl)\n",
    "    \n",
    "    cm_pred = clf.predict(X=X_test)\n",
    "    \n",
    "    print(classification_report(y_true=y_test, y_pred=cm_pred))"
   ]
  },
  {
   "cell_type": "code",
   "execution_count": 52,
   "metadata": {},
   "outputs": [
    {
     "name": "stderr",
     "output_type": "stream",
     "text": [
      "c:\\ProgramData\\anaconda3\\Lib\\site-packages\\sklearn\\base.py:432: UserWarning: X has feature names, but LogisticRegression was fitted without feature names\n",
      "  warnings.warn(\n",
      "c:\\ProgramData\\anaconda3\\Lib\\site-packages\\sklearn\\base.py:432: UserWarning: X has feature names, but KNeighborsClassifier was fitted without feature names\n",
      "  warnings.warn(\n"
     ]
    },
    {
     "name": "stdout",
     "output_type": "stream",
     "text": [
      "              precision    recall  f1-score   support\n",
      "\n",
      "         QSO       1.00      1.00      1.00     10048\n",
      "        STAR       1.00      1.00      1.00      9952\n",
      "\n",
      "    accuracy                           1.00     20000\n",
      "   macro avg       1.00      1.00      1.00     20000\n",
      "weighted avg       1.00      1.00      1.00     20000\n",
      "\n"
     ]
    }
   ],
   "source": [
    "pipeline_for_whole_test_data(features)"
   ]
  }
 ],
 "metadata": {
  "kernelspec": {
   "display_name": "Python 3",
   "language": "python",
   "name": "python3"
  },
  "language_info": {
   "codemirror_mode": {
    "name": "ipython",
    "version": 3
   },
   "file_extension": ".py",
   "mimetype": "text/x-python",
   "name": "python",
   "nbconvert_exporter": "python",
   "pygments_lexer": "ipython3",
   "version": "3.11.7"
  }
 },
 "nbformat": 4,
 "nbformat_minor": 2
}
