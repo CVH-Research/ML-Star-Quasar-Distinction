{
 "cells": [
  {
   "cell_type": "code",
   "execution_count": null,
   "metadata": {},
   "outputs": [],
   "source": [
    "from matplotlib import pyplot as plt\n",
    "import os\n",
    "import pandas as pd\n",
    "import seaborn as sns\n",
    "from sklearn.model_selection import train_test_split\n",
    "from sklearn.preprocessing import MinMaxScaler\n",
    "\n",
    "plt.style.use('dark_background')\n",
    "sns.set_palette(\"Set1\")\n",
    "\n",
    "scaling = MinMaxScaler()"
   ]
  },
  {
   "cell_type": "code",
   "execution_count": null,
   "metadata": {},
   "outputs": [],
   "source": [
    "def mkdf(array, columns):\n",
    "    return pd.DataFrame(data=array, columns=columns)\n",
    "\n",
    "def featurize(df):\n",
    "    df['g-r'] = df['g'] - df['r']\n",
    "    df['i-z'] = df['i'] - df['z']\n",
    "    df['u-r'] = df['u'] - df['r']\n",
    "    df['i-r'] = df['i'] - df['r']\n",
    "    df['z-r'] = df['z'] - df['r']\n",
    "    return df"
   ]
  },
  {
   "cell_type": "code",
   "execution_count": null,
   "metadata": {},
   "outputs": [],
   "source": [
    "df = pd.read_csv('SDSS_Data_F.csv')"
   ]
  },
  {
   "cell_type": "code",
   "execution_count": null,
   "metadata": {},
   "outputs": [],
   "source": [
    "imp_cols = ['ra', 'dec', 'u', 'g', 'r', 'i', 'z', 'redshift']\n",
    "f_cols = ['u', 'g', 'r', 'redshift', 'g-r', 'i-z', 'u-r', 'i-r', 'z-r']"
   ]
  },
  {
   "cell_type": "code",
   "execution_count": null,
   "metadata": {},
   "outputs": [],
   "source": [
    "xdf = df[imp_cols]\n",
    "ydf = df['class'].values"
   ]
  },
  {
   "cell_type": "code",
   "execution_count": null,
   "metadata": {},
   "outputs": [],
   "source": [
    "(X_train,\n",
    " X_test,\n",
    " y_train,\n",
    " y_test) = train_test_split(xdf, ydf,\n",
    "                            stratify=ydf, test_size=0.30, random_state=0)\n",
    "\n",
    "(X_train,\n",
    " X_cv,\n",
    " y_train,\n",
    " y_cv) = train_test_split(X_train, y_train,\n",
    "                          stratify=y_train, test_size=0.30, random_state=0)\n",
    "\n",
    "X_train = scaling.fit_transform(X=X_train)\n",
    "X_cv = scaling.transform(X=X_cv)\n",
    "X_test = scaling.transform(X=X_test)"
   ]
  },
  {
   "cell_type": "code",
   "execution_count": null,
   "metadata": {},
   "outputs": [],
   "source": [
    "train_df_fea = mkdf(X_train, imp_cols)\n",
    "cv_df_fea = mkdf(X_cv, imp_cols)\n",
    "test_df_fea = mkdf(X_test, imp_cols)\n",
    "\n",
    "train_df_fea = featurize(train_df_fea)\n",
    "cv_df_fea = featurize(cv_df_fea)\n",
    "test_df_fea = featurize(test_df_fea)"
   ]
  },
  {
   "cell_type": "code",
   "execution_count": null,
   "metadata": {},
   "outputs": [],
   "source": [
    "X_train_fea = train_df_fea[f_cols].values\n",
    "X_cv_fea = cv_df_fea[f_cols].values\n",
    "X_test_fea = test_df_fea[f_cols].values"
   ]
  },
  {
   "cell_type": "code",
   "execution_count": null,
   "metadata": {},
   "outputs": [],
   "source": [
    "def export_data(data, target_arr, filename):\n",
    "    if os.path.isdir('./data'):\n",
    "        pass\n",
    "    else:\n",
    "        os.mkdir(path='./data')\n",
    "    \n",
    "    data['class'] = target_arr\n",
    "    data.to_csv(path_or_buf=os.path.join('./data', filename), index=None)\n",
    "    print(\"The data is exported to '{}'.\".format(filename))"
   ]
  },
  {
   "cell_type": "code",
   "execution_count": null,
   "metadata": {},
   "outputs": [],
   "source": [
    "export_data(data=train_df_fea[f_cols], target_arr=y_train, \n",
    "            filename='train_fea.csv')\n",
    "export_data(data=cv_df_fea[f_cols], target_arr=y_cv,\n",
    "            filename='cv_fea.csv')\n",
    "export_data(data=test_df_fea[f_cols], target_arr=y_test,\n",
    "            filename='test_fea.csv')\n",
    "export_data(data=test_df_fea[imp_cols], target_arr=y_test,\n",
    "            filename='test_data.csv')"
   ]
  },
  {
   "cell_type": "code",
   "execution_count": null,
   "metadata": {},
   "outputs": [],
   "source": []
  }
 ],
 "metadata": {
  "kernelspec": {
   "display_name": "base",
   "language": "python",
   "name": "python3"
  },
  "language_info": {
   "codemirror_mode": {
    "name": "ipython",
    "version": 3
   },
   "file_extension": ".py",
   "mimetype": "text/x-python",
   "name": "python",
   "nbconvert_exporter": "python",
   "pygments_lexer": "ipython3",
   "version": "3.10.6"
  }
 },
 "nbformat": 4,
 "nbformat_minor": 2
}
