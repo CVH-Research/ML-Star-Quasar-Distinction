{
 "cells": [
  {
   "cell_type": "code",
   "execution_count": null,
   "metadata": {},
   "outputs": [],
   "source": [
    "from matplotlib import pyplot as plt\n",
    "import numpy as np\n",
    "import pandas as pd\n",
    "import seaborn as sns\n",
    "\n",
    "plt.style.use('dark_background')\n",
    "sns.set_palette(\"Set1\")"
   ]
  },
  {
   "cell_type": "code",
   "execution_count": null,
   "metadata": {},
   "outputs": [],
   "source": [
    "df = pd.read_csv('SDSS_Data.csv')\n",
    "\n",
    "# Remove outliers for u, g, i, r, z\n",
    "df = df[df['u'] > 0]\n",
    "df = df[df['g'] > 0]\n",
    "df = df[df['i'] > 0]\n",
    "df = df[df['r'] > 0]\n",
    "df = df[df['z'] > 0]\n",
    "\n",
    "# Convert inf values to NaN\n",
    "df = df.replace([np.inf, -np.inf], np.nan)\n",
    "\n",
    "# Features\n",
    "df['g-r'] = df['g'] - df['r']\n",
    "df['i-z'] = df['i'] - df['z']\n",
    "df['u-r'] = df['u'] - df['r']\n",
    "df['i-r'] = df['i'] - df['r']\n",
    "df['z-r'] = df['z'] - df['r']\n",
    "\n",
    "# Save as CSV\n",
    "df.to_csv('SDSS_Data_F.csv', index=False)"
   ]
  },
  {
   "cell_type": "code",
   "execution_count": null,
   "metadata": {},
   "outputs": [],
   "source": [
    "def distro(df, target):\n",
    "    labels = df[target].unique()\n",
    "    class_counts = df[target].value_counts()\n",
    "    class_proportions = (class_counts / df.shape[0]) * 100\n",
    "\n",
    "    def make_autopct(values):\n",
    "        def my_autopct(pct):\n",
    "            total = sum(values)\n",
    "            val = int(round(pct*total/100.0))\n",
    "            return '{p:.1f}%  ({v:d})'.format(p=pct,v=val)\n",
    "        return my_autopct\n",
    "\n",
    "    plt.pie(class_proportions, labels=labels, autopct=make_autopct(class_counts), startangle=140, explode=[0.1]*len(labels))\n",
    "    plt.title('Class Distribution')\n",
    "\n",
    "    plt.show()"
   ]
  },
  {
   "cell_type": "code",
   "execution_count": null,
   "metadata": {},
   "outputs": [],
   "source": [
    "distro(df=df, target='class')"
   ]
  },
  {
   "cell_type": "code",
   "execution_count": null,
   "metadata": {},
   "outputs": [],
   "source": [
    "imp_cols = ['ra', 'dec', 'u', 'g', 'r', 'i', 'z', 'redshift']"
   ]
  },
  {
   "cell_type": "code",
   "execution_count": null,
   "metadata": {},
   "outputs": [],
   "source": [
    "def pdf(df, features, target):\n",
    "    plt.figure(figsize=(15, 30))\n",
    "    for (i, feature) in zip(range(len(features)), features):\n",
    "        plt.subplot(int(f'{len(features)}2{i+1}'))\n",
    "        sns.kdeplot(data=df, x=feature, hue=target, fill=True)\n",
    "        plt.title(label=f'PDF of {feature}', fontsize=10)\n",
    "        plt.xlabel(xlabel='')\n",
    "        if feature == 'redshift':\n",
    "            plt.ylim(0, 1.5)\n",
    "            plt.xlim(0, 3.5)\n",
    "        i += 1\n",
    "    plt.show()"
   ]
  },
  {
   "cell_type": "code",
   "execution_count": null,
   "metadata": {},
   "outputs": [],
   "source": [
    "pdf(df=df, features=imp_cols, target='class')"
   ]
  },
  {
   "cell_type": "code",
   "execution_count": null,
   "metadata": {},
   "outputs": [],
   "source": [
    "# Pairplots of ra, dec, redshift\n",
    "\n",
    "def pairplot1(df, features, target):\n",
    "    sns.pairplot(data=df, vars=features, hue=target)\n",
    "    plt.show()"
   ]
  },
  {
   "cell_type": "code",
   "execution_count": null,
   "metadata": {},
   "outputs": [],
   "source": [
    "pairplot1(df=df, features=['ra', 'dec', 'redshift'], target='class')"
   ]
  },
  {
   "cell_type": "code",
   "execution_count": null,
   "metadata": {},
   "outputs": [],
   "source": [
    "def pairplot2(df, features, target):\n",
    "    sns.pairplot(data=df, vars=features, hue=target)\n",
    "    plt.show()"
   ]
  },
  {
   "cell_type": "code",
   "execution_count": null,
   "metadata": {},
   "outputs": [],
   "source": [
    "pairplot2(df=df, features=['u', 'g', 'r', 'i', 'z'], target='class')"
   ]
  }
 ],
 "metadata": {
  "kernelspec": {
   "display_name": "base",
   "language": "python",
   "name": "python3"
  },
  "language_info": {
   "codemirror_mode": {
    "name": "ipython",
    "version": 3
   },
   "file_extension": ".py",
   "mimetype": "text/x-python",
   "name": "python",
   "nbconvert_exporter": "python",
   "pygments_lexer": "ipython3",
   "version": "3.10.6"
  }
 },
 "nbformat": 4,
 "nbformat_minor": 2
}
